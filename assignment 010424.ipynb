{
 "cells": [
  {
   "cell_type": "markdown",
   "id": "eea8c287",
   "metadata": {},
   "source": [
    "Regular Expressions Assignment 01/04/2024"
   ]
  },
  {
   "cell_type": "markdown",
   "id": "38e65ecc",
   "metadata": {},
   "source": [
    "Q1.Write a Python program to replace all occurrences of a space, comma, or dot with a\n",
    "colon."
   ]
  },
  {
   "cell_type": "code",
   "execution_count": 1,
   "id": "8aad3f32",
   "metadata": {},
   "outputs": [
    {
     "name": "stdout",
     "output_type": "stream",
     "text": [
      "Enter a string with space comma and dot: 'Python Exercises, PHP exercises.'\n"
     ]
    },
    {
     "data": {
      "text/plain": [
       "\"'Python:Exercises::PHP:exercises:'\""
      ]
     },
     "execution_count": 1,
     "metadata": {},
     "output_type": "execute_result"
    }
   ],
   "source": [
    "def fn(text):\n",
    "    for char in [' ', ',', '.']:\n",
    "        text = text.replace(char, ':')\n",
    "    return text\n",
    "\n",
    "ip_text = input(\"Enter a string with space comma and dot: \")\n",
    "op_text = fn(ip_text)\n",
    "op_text\n"
   ]
  },
  {
   "cell_type": "markdown",
   "id": "e71bfd72",
   "metadata": {},
   "source": [
    "Q2. Create a dataframe using the dictionary below and remove everything (commas (,), !,\n",
    "XXXX, ;, etc.) from the columns except words."
   ]
  },
  {
   "cell_type": "code",
   "execution_count": 7,
   "id": "efa60966",
   "metadata": {},
   "outputs": [
    {
     "data": {
      "text/html": [
       "<div>\n",
       "<style scoped>\n",
       "    .dataframe tbody tr th:only-of-type {\n",
       "        vertical-align: middle;\n",
       "    }\n",
       "\n",
       "    .dataframe tbody tr th {\n",
       "        vertical-align: top;\n",
       "    }\n",
       "\n",
       "    .dataframe thead th {\n",
       "        text-align: right;\n",
       "    }\n",
       "</style>\n",
       "<table border=\"1\" class=\"dataframe\">\n",
       "  <thead>\n",
       "    <tr style=\"text-align: right;\">\n",
       "      <th></th>\n",
       "      <th>SUMMARY</th>\n",
       "    </tr>\n",
       "  </thead>\n",
       "  <tbody>\n",
       "    <tr>\n",
       "      <th>0</th>\n",
       "      <td>hello world</td>\n",
       "    </tr>\n",
       "    <tr>\n",
       "      <th>1</th>\n",
       "      <td>XXXXX test</td>\n",
       "    </tr>\n",
       "    <tr>\n",
       "      <th>2</th>\n",
       "      <td>123four five six</td>\n",
       "    </tr>\n",
       "  </tbody>\n",
       "</table>\n",
       "</div>"
      ],
      "text/plain": [
       "            SUMMARY\n",
       "0       hello world\n",
       "1        XXXXX test\n",
       "2  123four five six"
      ]
     },
     "execution_count": 7,
     "metadata": {},
     "output_type": "execute_result"
    }
   ],
   "source": [
    "import pandas as pd\n",
    "import re\n",
    "\n",
    "data = {'SUMMARY': ['hello, world!', 'XXXXX test', '123four, five:; six...']}\n",
    "df = pd.DataFrame(data)\n",
    "df['SUMMARY'] = df['SUMMARY'].apply(lambda x: re.sub(r'[^\\w\\s]', '', x))\n",
    "df\n"
   ]
  },
  {
   "cell_type": "markdown",
   "id": "93071d1b",
   "metadata": {},
   "source": [
    "Q3.Create a function in python to find all words that are at least 4 characters long in a\n",
    "string. The use of the re.compile() method is mandatory."
   ]
  },
  {
   "cell_type": "code",
   "execution_count": 9,
   "id": "d3a702cd",
   "metadata": {},
   "outputs": [
    {
     "name": "stdout",
     "output_type": "stream",
     "text": [
      "Long words found: ['This', 'sample', 'string', 'with', 'some', 'long', 'words', 'like', 'Python', 'regular', 'expressions', 'programming']\n"
     ]
    }
   ],
   "source": [
    "import re\n",
    "\n",
    "def find_long_words(text):\n",
    "    pattern = re.compile(r'\\b\\w{4,}\\b')\n",
    "    return pattern.findall(text)\n",
    "input_text = \"This is a sample string with some long words like Python, regular expressions, and programming.\"\n",
    "long_words = find_long_words(input_text)\n",
    "print(\"Long words found:\", long_words)"
   ]
  },
  {
   "cell_type": "markdown",
   "id": "92944a18",
   "metadata": {},
   "source": [
    "Q4.Create a function in python to find all three, four, and five character words in a string.\n",
    "The use of the re.compile() method is mandatory."
   ]
  },
  {
   "cell_type": "code",
   "execution_count": 10,
   "id": "9602c507",
   "metadata": {},
   "outputs": [
    {
     "name": "stdout",
     "output_type": "stream",
     "text": [
      "Words found: ['This', 'with', 'words', 'like', 'cat', 'dog', 'and', 'tiger']\n"
     ]
    }
   ],
   "source": [
    "import re\n",
    "def find_words(text):\n",
    "    \n",
    "    pattern = re.compile(r'\\b\\w{3,5}\\b')\n",
    "    return pattern.findall(text)\n",
    "\n",
    "input_text = \"This is a sample string with words of various lengths like cat, dog, Python, and tiger.\"\n",
    "words = find_words(input_text)\n",
    "print(\"Words found:\", words)\n"
   ]
  },
  {
   "cell_type": "markdown",
   "id": "4d87109e",
   "metadata": {},
   "source": [
    "Q5.Create a function in Python to remove the parenthesis in a list of strings. The use of the\n",
    "re.compile() method is mandatory."
   ]
  },
  {
   "cell_type": "code",
   "execution_count": 17,
   "id": "cc9e3449",
   "metadata": {},
   "outputs": [
    {
     "name": "stdout",
     "output_type": "stream",
     "text": [
      "example \n",
      "hr@fliprobo \n",
      "github \n",
      "Hello \n",
      "Data \n"
     ]
    }
   ],
   "source": [
    "import re\n",
    "\n",
    "def remove_parenthesis(strings):\n",
    "    pattern = re.compile(r'\\([^)]*\\)')  # Compile regex pattern to match anything inside parentheses\n",
    "    return [pattern.sub('', string) for string in strings]\n",
    "sample_text = [\"example (.com)\", \"hr@fliprobo (.com)\", \"github (.com)\", \"Hello (Data Science World)\", \"Data (Scientist)\"]\n",
    "result = remove_parenthesis(sample_text)\n",
    "\n",
    "\n",
    "for string in result:\n",
    "    print(string)"
   ]
  },
  {
   "cell_type": "markdown",
   "id": "27afcc9b",
   "metadata": {},
   "source": [
    "Q6.Write a python program to remove the parenthesis area from the text stored in the text\n",
    "file using Regular Expression."
   ]
  },
  {
   "cell_type": "code",
   "execution_count": 23,
   "id": "8c34dac1",
   "metadata": {},
   "outputs": [
    {
     "name": "stdout",
     "output_type": "stream",
     "text": [
      "Parenthesis area removed and written to output.txt\n"
     ]
    }
   ],
   "source": [
    "import re\n",
    "\n",
    "def remove_parenthesis(text):\n",
    "    pattern = re.compile(r'\\([^)]*\\)')\n",
    "    return pattern.sub('', text) \n",
    "def remove_parenthesis_from_file(input_file, output_file):\n",
    "    try:\n",
    "        with open(input_file, 'r') as file:\n",
    "            text = file.read()\n",
    "        modified_text = remove_parenthesis(text)\n",
    "        with open(output_file, 'w') as file:\n",
    "            file.write(modified_text)\n",
    "        print(\"Parenthesis area removed and written to\", output_file)\n",
    "    except FileNotFoundError:\n",
    "        print(\"File not found.\")\n",
    "input_file = \"input.txt\"\n",
    "output_file = \"output.txt\" \n",
    "\n",
    "remove_parenthesis_from_file(input_file, output_file)"
   ]
  },
  {
   "cell_type": "markdown",
   "id": "81e92126",
   "metadata": {},
   "source": [
    "Q7.Write a regular expression in Python to split a string into uppercase letters."
   ]
  },
  {
   "cell_type": "code",
   "execution_count": 27,
   "id": "033d5255",
   "metadata": {},
   "outputs": [
    {
     "data": {
      "text/plain": [
       "['Importance', 'Of', 'Regular', 'Expressions', 'In', 'Python']"
      ]
     },
     "execution_count": 27,
     "metadata": {},
     "output_type": "execute_result"
    }
   ],
   "source": [
    "import re\n",
    "\n",
    "text = \"ImportanceOfRegularExpressionsInPython\"\n",
    "uppercase_letters = re.findall('[A-Z][a-z]*', text)\n",
    "\n",
    "uppercase_letters\n"
   ]
  },
  {
   "cell_type": "markdown",
   "id": "0ef4bb5a",
   "metadata": {},
   "source": [
    "Q8.Create a function in python to insert spaces between words starting with numbers."
   ]
  },
  {
   "cell_type": "code",
   "execution_count": 28,
   "id": "96c8fd4c",
   "metadata": {},
   "outputs": [
    {
     "name": "stdout",
     "output_type": "stream",
     "text": [
      "Modified text: RegularExpression1 IsAn2 ImportantTopic3 InPython\n"
     ]
    }
   ],
   "source": [
    "import re\n",
    "\n",
    "def insert_spaces(text):\n",
    "    modified_text = re.sub(r'(\\d)([a-zA-Z])', r'\\1 \\2', text)\n",
    "    return modified_text\n",
    "\n",
    "input_text = \"RegularExpression1IsAn2ImportantTopic3InPython\"\n",
    "modified_text = insert_spaces(input_text)\n",
    "print(\"Modified text:\", modified_text)\n"
   ]
  },
  {
   "cell_type": "markdown",
   "id": "88e302f3",
   "metadata": {},
   "source": [
    "Q9.Create a function in python to insert spaces between words starting with capital letters\n",
    "or with numbers."
   ]
  },
  {
   "cell_type": "code",
   "execution_count": 29,
   "id": "7a4f9b38",
   "metadata": {},
   "outputs": [
    {
     "name": "stdout",
     "output_type": "stream",
     "text": [
      "Modified text: Regular Expression 1Is An 2Important Topic 3In Python\n"
     ]
    }
   ],
   "source": [
    "import re\n",
    "\n",
    "def insert_spaces(text):\n",
    "\n",
    "    modified_text = re.sub(r'(?<=[a-z])([A-Z0-9])|(?<=\\D)(\\d)', r' \\1\\2', text)\n",
    "    return modified_text\n",
    "\n",
    "input_text = \"RegularExpression1IsAn2ImportantTopic3InPython\"\n",
    "modified_text = insert_spaces(input_text)\n",
    "print(\"Modified text:\", modified_text)\n"
   ]
  },
  {
   "cell_type": "markdown",
   "id": "9390b2e9",
   "metadata": {},
   "source": [
    "Q10.Use the github link below to read the data and create a dataframe. After creating the\n",
    "dataframe extract the first 6 letters of each country and store in the dataframe under a new column\n",
    "called first_five_letters."
   ]
  },
  {
   "cell_type": "code",
   "execution_count": 6,
   "id": "b7e5ed56",
   "metadata": {},
   "outputs": [
    {
     "data": {
      "text/html": [
       "<div>\n",
       "<style scoped>\n",
       "    .dataframe tbody tr th:only-of-type {\n",
       "        vertical-align: middle;\n",
       "    }\n",
       "\n",
       "    .dataframe tbody tr th {\n",
       "        vertical-align: top;\n",
       "    }\n",
       "\n",
       "    .dataframe thead th {\n",
       "        text-align: right;\n",
       "    }\n",
       "</style>\n",
       "<table border=\"1\" class=\"dataframe\">\n",
       "  <thead>\n",
       "    <tr style=\"text-align: right;\">\n",
       "      <th></th>\n",
       "      <th>Country</th>\n",
       "      <th>Region</th>\n",
       "      <th>Happiness Rank</th>\n",
       "      <th>Happiness Score</th>\n",
       "      <th>Standard Error</th>\n",
       "      <th>Economy (GDP per Capita)</th>\n",
       "      <th>Family</th>\n",
       "      <th>Health (Life Expectancy)</th>\n",
       "      <th>Freedom</th>\n",
       "      <th>Trust (Government Corruption)</th>\n",
       "      <th>Generosity</th>\n",
       "      <th>Dystopia Residual</th>\n",
       "      <th>first_five_letters</th>\n",
       "    </tr>\n",
       "  </thead>\n",
       "  <tbody>\n",
       "    <tr>\n",
       "      <th>0</th>\n",
       "      <td>Switzerland</td>\n",
       "      <td>Western Europe</td>\n",
       "      <td>1</td>\n",
       "      <td>7.587</td>\n",
       "      <td>0.03411</td>\n",
       "      <td>1.39651</td>\n",
       "      <td>1.34951</td>\n",
       "      <td>0.94143</td>\n",
       "      <td>0.66557</td>\n",
       "      <td>0.41978</td>\n",
       "      <td>0.29678</td>\n",
       "      <td>2.51738</td>\n",
       "      <td>Switze</td>\n",
       "    </tr>\n",
       "    <tr>\n",
       "      <th>1</th>\n",
       "      <td>Iceland</td>\n",
       "      <td>Western Europe</td>\n",
       "      <td>2</td>\n",
       "      <td>7.561</td>\n",
       "      <td>0.04884</td>\n",
       "      <td>1.30232</td>\n",
       "      <td>1.40223</td>\n",
       "      <td>0.94784</td>\n",
       "      <td>0.62877</td>\n",
       "      <td>0.14145</td>\n",
       "      <td>0.43630</td>\n",
       "      <td>2.70201</td>\n",
       "      <td>Icelan</td>\n",
       "    </tr>\n",
       "    <tr>\n",
       "      <th>2</th>\n",
       "      <td>Denmark</td>\n",
       "      <td>Western Europe</td>\n",
       "      <td>3</td>\n",
       "      <td>7.527</td>\n",
       "      <td>0.03328</td>\n",
       "      <td>1.32548</td>\n",
       "      <td>1.36058</td>\n",
       "      <td>0.87464</td>\n",
       "      <td>0.64938</td>\n",
       "      <td>0.48357</td>\n",
       "      <td>0.34139</td>\n",
       "      <td>2.49204</td>\n",
       "      <td>Denmar</td>\n",
       "    </tr>\n",
       "    <tr>\n",
       "      <th>3</th>\n",
       "      <td>Norway</td>\n",
       "      <td>Western Europe</td>\n",
       "      <td>4</td>\n",
       "      <td>7.522</td>\n",
       "      <td>0.03880</td>\n",
       "      <td>1.45900</td>\n",
       "      <td>1.33095</td>\n",
       "      <td>0.88521</td>\n",
       "      <td>0.66973</td>\n",
       "      <td>0.36503</td>\n",
       "      <td>0.34699</td>\n",
       "      <td>2.46531</td>\n",
       "      <td>Norway</td>\n",
       "    </tr>\n",
       "    <tr>\n",
       "      <th>4</th>\n",
       "      <td>Canada</td>\n",
       "      <td>North America</td>\n",
       "      <td>5</td>\n",
       "      <td>7.427</td>\n",
       "      <td>0.03553</td>\n",
       "      <td>1.32629</td>\n",
       "      <td>1.32261</td>\n",
       "      <td>0.90563</td>\n",
       "      <td>0.63297</td>\n",
       "      <td>0.32957</td>\n",
       "      <td>0.45811</td>\n",
       "      <td>2.45176</td>\n",
       "      <td>Canada</td>\n",
       "    </tr>\n",
       "    <tr>\n",
       "      <th>...</th>\n",
       "      <td>...</td>\n",
       "      <td>...</td>\n",
       "      <td>...</td>\n",
       "      <td>...</td>\n",
       "      <td>...</td>\n",
       "      <td>...</td>\n",
       "      <td>...</td>\n",
       "      <td>...</td>\n",
       "      <td>...</td>\n",
       "      <td>...</td>\n",
       "      <td>...</td>\n",
       "      <td>...</td>\n",
       "      <td>...</td>\n",
       "    </tr>\n",
       "    <tr>\n",
       "      <th>153</th>\n",
       "      <td>Rwanda</td>\n",
       "      <td>Sub-Saharan Africa</td>\n",
       "      <td>154</td>\n",
       "      <td>3.465</td>\n",
       "      <td>0.03464</td>\n",
       "      <td>0.22208</td>\n",
       "      <td>0.77370</td>\n",
       "      <td>0.42864</td>\n",
       "      <td>0.59201</td>\n",
       "      <td>0.55191</td>\n",
       "      <td>0.22628</td>\n",
       "      <td>0.67042</td>\n",
       "      <td>Rwanda</td>\n",
       "    </tr>\n",
       "    <tr>\n",
       "      <th>154</th>\n",
       "      <td>Benin</td>\n",
       "      <td>Sub-Saharan Africa</td>\n",
       "      <td>155</td>\n",
       "      <td>3.340</td>\n",
       "      <td>0.03656</td>\n",
       "      <td>0.28665</td>\n",
       "      <td>0.35386</td>\n",
       "      <td>0.31910</td>\n",
       "      <td>0.48450</td>\n",
       "      <td>0.08010</td>\n",
       "      <td>0.18260</td>\n",
       "      <td>1.63328</td>\n",
       "      <td>Benin</td>\n",
       "    </tr>\n",
       "    <tr>\n",
       "      <th>155</th>\n",
       "      <td>Syria</td>\n",
       "      <td>Middle East and Northern Africa</td>\n",
       "      <td>156</td>\n",
       "      <td>3.006</td>\n",
       "      <td>0.05015</td>\n",
       "      <td>0.66320</td>\n",
       "      <td>0.47489</td>\n",
       "      <td>0.72193</td>\n",
       "      <td>0.15684</td>\n",
       "      <td>0.18906</td>\n",
       "      <td>0.47179</td>\n",
       "      <td>0.32858</td>\n",
       "      <td>Syria</td>\n",
       "    </tr>\n",
       "    <tr>\n",
       "      <th>156</th>\n",
       "      <td>Burundi</td>\n",
       "      <td>Sub-Saharan Africa</td>\n",
       "      <td>157</td>\n",
       "      <td>2.905</td>\n",
       "      <td>0.08658</td>\n",
       "      <td>0.01530</td>\n",
       "      <td>0.41587</td>\n",
       "      <td>0.22396</td>\n",
       "      <td>0.11850</td>\n",
       "      <td>0.10062</td>\n",
       "      <td>0.19727</td>\n",
       "      <td>1.83302</td>\n",
       "      <td>Burund</td>\n",
       "    </tr>\n",
       "    <tr>\n",
       "      <th>157</th>\n",
       "      <td>Togo</td>\n",
       "      <td>Sub-Saharan Africa</td>\n",
       "      <td>158</td>\n",
       "      <td>2.839</td>\n",
       "      <td>0.06727</td>\n",
       "      <td>0.20868</td>\n",
       "      <td>0.13995</td>\n",
       "      <td>0.28443</td>\n",
       "      <td>0.36453</td>\n",
       "      <td>0.10731</td>\n",
       "      <td>0.16681</td>\n",
       "      <td>1.56726</td>\n",
       "      <td>Togo</td>\n",
       "    </tr>\n",
       "  </tbody>\n",
       "</table>\n",
       "<p>158 rows × 13 columns</p>\n",
       "</div>"
      ],
      "text/plain": [
       "         Country                           Region  Happiness Rank  \\\n",
       "0    Switzerland                   Western Europe               1   \n",
       "1        Iceland                   Western Europe               2   \n",
       "2        Denmark                   Western Europe               3   \n",
       "3         Norway                   Western Europe               4   \n",
       "4         Canada                    North America               5   \n",
       "..           ...                              ...             ...   \n",
       "153       Rwanda               Sub-Saharan Africa             154   \n",
       "154        Benin               Sub-Saharan Africa             155   \n",
       "155        Syria  Middle East and Northern Africa             156   \n",
       "156      Burundi               Sub-Saharan Africa             157   \n",
       "157         Togo               Sub-Saharan Africa             158   \n",
       "\n",
       "     Happiness Score  Standard Error  Economy (GDP per Capita)   Family  \\\n",
       "0              7.587         0.03411                   1.39651  1.34951   \n",
       "1              7.561         0.04884                   1.30232  1.40223   \n",
       "2              7.527         0.03328                   1.32548  1.36058   \n",
       "3              7.522         0.03880                   1.45900  1.33095   \n",
       "4              7.427         0.03553                   1.32629  1.32261   \n",
       "..               ...             ...                       ...      ...   \n",
       "153            3.465         0.03464                   0.22208  0.77370   \n",
       "154            3.340         0.03656                   0.28665  0.35386   \n",
       "155            3.006         0.05015                   0.66320  0.47489   \n",
       "156            2.905         0.08658                   0.01530  0.41587   \n",
       "157            2.839         0.06727                   0.20868  0.13995   \n",
       "\n",
       "     Health (Life Expectancy)  Freedom  Trust (Government Corruption)  \\\n",
       "0                     0.94143  0.66557                        0.41978   \n",
       "1                     0.94784  0.62877                        0.14145   \n",
       "2                     0.87464  0.64938                        0.48357   \n",
       "3                     0.88521  0.66973                        0.36503   \n",
       "4                     0.90563  0.63297                        0.32957   \n",
       "..                        ...      ...                            ...   \n",
       "153                   0.42864  0.59201                        0.55191   \n",
       "154                   0.31910  0.48450                        0.08010   \n",
       "155                   0.72193  0.15684                        0.18906   \n",
       "156                   0.22396  0.11850                        0.10062   \n",
       "157                   0.28443  0.36453                        0.10731   \n",
       "\n",
       "     Generosity  Dystopia Residual first_five_letters  \n",
       "0       0.29678            2.51738             Switze  \n",
       "1       0.43630            2.70201             Icelan  \n",
       "2       0.34139            2.49204             Denmar  \n",
       "3       0.34699            2.46531             Norway  \n",
       "4       0.45811            2.45176             Canada  \n",
       "..          ...                ...                ...  \n",
       "153     0.22628            0.67042             Rwanda  \n",
       "154     0.18260            1.63328              Benin  \n",
       "155     0.47179            0.32858              Syria  \n",
       "156     0.19727            1.83302             Burund  \n",
       "157     0.16681            1.56726               Togo  \n",
       "\n",
       "[158 rows x 13 columns]"
      ]
     },
     "execution_count": 6,
     "metadata": {},
     "output_type": "execute_result"
    }
   ],
   "source": [
    "import pandas as pd\n",
    "df = pd.read_csv('q10.csv')\n",
    "df['first_five_letters'] = df['Country'].apply(lambda x: x[:6])\n",
    "df"
   ]
  },
  {
   "cell_type": "markdown",
   "id": "15242414",
   "metadata": {},
   "source": [
    "Q11.Write a Python program to match a string that contains only upper and lowercase\n",
    "letters, numbers, and underscores."
   ]
  },
  {
   "cell_type": "code",
   "execution_count": 30,
   "id": "3050f89a",
   "metadata": {},
   "outputs": [
    {
     "name": "stdout",
     "output_type": "stream",
     "text": [
      "'Hello_World123' valid \n",
      "'Abcd123' valid \n",
      "'123_abc' valid \n",
      "'Hello@123' not valid\n",
      "'spaces not allowed' not valid\n"
     ]
    }
   ],
   "source": [
    "import re\n",
    "\n",
    "def is_valid_string(s):\n",
    "    pattern = r'^[a-zA-Z0-9_]*$'\n",
    "    if re.match(pattern, s):\n",
    "        return True\n",
    "    else:\n",
    "        return False\n",
    "\n",
    "strings = ['Hello_World123', 'Abcd123', '123_abc', 'Hello@123', 'spaces not allowed']\n",
    "\n",
    "for string in strings:\n",
    "    if is_valid_string(string):\n",
    "        print(f\"'{string}' valid \")\n",
    "    else:\n",
    "        print(f\"'{string}' not valid\")\n"
   ]
  },
  {
   "cell_type": "markdown",
   "id": "dcae873b",
   "metadata": {},
   "source": [
    "Q12.Write a Python program where a string will start with a specific number."
   ]
  },
  {
   "cell_type": "code",
   "execution_count": 31,
   "id": "58e93273",
   "metadata": {},
   "outputs": [
    {
     "name": "stdout",
     "output_type": "stream",
     "text": [
      "The string '123abc' starts with the number 123.\n"
     ]
    }
   ],
   "source": [
    "import re\n",
    "\n",
    "def starts_with_number(string, number):\n",
    "    pattern = r'^' + re.escape(str(number))\n",
    "    if re.match(pattern, string):\n",
    "        return True\n",
    "    else:\n",
    "        return False\n",
    "\n",
    "string = \"123abc\"\n",
    "number = 123\n",
    "\n",
    "if starts_with_number(string, number):\n",
    "    print(f\"The string '{string}' starts with the number {number}.\")\n",
    "else:\n",
    "    print(f\"The string '{string}' does not start with the number {number}.\")\n"
   ]
  },
  {
   "cell_type": "markdown",
   "id": "20eac019",
   "metadata": {},
   "source": [
    "Q13.Write a Python program to remove leading zeros from an IP address"
   ]
  },
  {
   "cell_type": "code",
   "execution_count": 32,
   "id": "4b703634",
   "metadata": {},
   "outputs": [
    {
     "name": "stdout",
     "output_type": "stream",
     "text": [
      "Original IP address: 192.168.001.001\n",
      "IP address without leading zeros: 192.168.1.1\n"
     ]
    }
   ],
   "source": [
    "import re\n",
    "\n",
    "def remove_leading_zeros(ip_address):\n",
    "    pattern = r'\\b0+(\\d+)\\b'\n",
    "    result = re.sub(pattern, r'\\1', ip_address)\n",
    "    \n",
    "    return result\n",
    "ip_address = \"192.168.001.001\"\n",
    "new_ip_address = remove_leading_zeros(ip_address)\n",
    "print(\"Original IP address:\", ip_address)\n",
    "print(\"IP address without leading zeros:\", new_ip_address)\n"
   ]
  },
  {
   "cell_type": "markdown",
   "id": "3d75e800",
   "metadata": {},
   "source": [
    "Q14.Write a regular expression in python to match a date string in the form of Month name\n",
    "followed by day number and year stored in a text file.\n",
    "Sample text : 'On August 15th 1947 that India was declared independent from British colonialism, and\n",
    "the reins of control were handed over to the leaders of the Country’.\n",
    "Expected Output- August 15th 1947\n",
    "Note- Store given sample text in the text file and then extract the date string asked format."
   ]
  },
  {
   "cell_type": "code",
   "execution_count": 34,
   "id": "490126d7",
   "metadata": {},
   "outputs": [
    {
     "name": "stdout",
     "output_type": "stream",
     "text": [
      "Extracted Date: August 15th 1947\n"
     ]
    }
   ],
   "source": [
    "import re\n",
    "\n",
    "def extract_date_from_text_file(file_path):\n",
    "    \n",
    "    with open(file_path, 'r') as file:\n",
    "        text = file.read()\n",
    "\n",
    "    pattern = r'\\b(January|February|March|April|May|June|July|August|September|October|November|December)\\s+\\d{1,2}(?:st|nd|rd|th)\\s+\\d{4}\\b'\n",
    "\n",
    "    match = re.search(pattern, text)\n",
    "\n",
    "    if match:\n",
    "        return match.group(0)\n",
    "    else:\n",
    "        return \"Date string not found in the text.\"\n",
    "\n",
    "file_path = 'sample_text.txt'\n",
    "\n",
    "date_string = extract_date_from_text_file(file_path)\n",
    "print(\"Extracted Date:\", date_string)\n"
   ]
  },
  {
   "cell_type": "markdown",
   "id": "6c2dff5c",
   "metadata": {},
   "source": [
    "Q15.Write a Python program to search some literals strings in a string.\n",
    "Sample text : 'The quick brown fox jumps over the lazy dog.\n",
    "Searched words :'fox','dog','horse'"
   ]
  },
  {
   "cell_type": "code",
   "execution_count": 35,
   "id": "a069847e",
   "metadata": {},
   "outputs": [
    {
     "name": "stdout",
     "output_type": "stream",
     "text": [
      "Found words: ['fox', 'dog']\n"
     ]
    }
   ],
   "source": [
    "def search_words(text, words):\n",
    "    found_words = []\n",
    "    for word in words:\n",
    "        if word in text:\n",
    "            found_words.append(word)\n",
    "    return found_words\n",
    "\n",
    "sample_text = 'The quick brown fox jumps over the lazy dog.'\n",
    "\n",
    "searched_words = ['fox', 'dog', 'horse']\n",
    "\n",
    "found_words = search_words(sample_text, searched_words)\n",
    "print(\"Found words:\", found_words)\n"
   ]
  },
  {
   "cell_type": "markdown",
   "id": "7635f01a",
   "metadata": {},
   "source": [
    "Q16.Write a Python program to search a literals string in a string and also find the location\n",
    "within the original string where the pattern occurs\n",
    "Sample text :'The quick brown fox jumps over the lazy dog.'\n",
    "Searched words : 'fox'"
   ]
  },
  {
   "cell_type": "code",
   "execution_count": 36,
   "id": "7e366bea",
   "metadata": {},
   "outputs": [
    {
     "name": "stdout",
     "output_type": "stream",
     "text": [
      "The word 'fox' found at location(s): [16]\n"
     ]
    }
   ],
   "source": [
    "def search_word_with_location(text, word):\n",
    "    locations = []\n",
    "    start = 0\n",
    "    while True:\n",
    "        start = text.find(word, start)\n",
    "        if start == -1:\n",
    "            break\n",
    "        locations.append(start)\n",
    "        start += 1\n",
    "    return locations\n",
    "\n",
    "sample_text = 'The quick brown fox jumps over the lazy dog.'\n",
    "\n",
    "searched_word = 'fox'\n",
    "\n",
    "word_locations = search_word_with_location(sample_text, searched_word)\n",
    "\n",
    "if word_locations:\n",
    "    print(f\"The word '{searched_word}' found at location(s): {word_locations}\")\n",
    "else:\n",
    "    print(f\"The word '{searched_word}' not found in the text.\")\n"
   ]
  },
  {
   "cell_type": "markdown",
   "id": "18d30034",
   "metadata": {},
   "source": [
    "Q17.Write a Python program to find the substrings within a string.\n",
    "Sample text :Python exercises, PHP exercises, C# exercises'\n",
    "Pattern : 'exercises'."
   ]
  },
  {
   "cell_type": "code",
   "execution_count": 15,
   "id": "308d4ae0",
   "metadata": {},
   "outputs": [
    {
     "name": "stdout",
     "output_type": "stream",
     "text": [
      "Substrings matching the pattern 'exercises': ['exercises', 'exercises', 'exercises']\n"
     ]
    }
   ],
   "source": [
    "import re\n",
    "\n",
    "def find_substrings(text, pattern):\n",
    "    substrings = re.findall(pattern, text)\n",
    "    return substrings\n",
    "\n",
    "sample_text = 'Python exercises, PHP exercises, C# exercises'\n",
    "\n",
    "pattern = 'exercises'\n",
    "\n",
    "matching_substrings = find_substrings(sample_text, pattern)\n",
    "\n",
    "if matching_substrings:\n",
    "    print(f\"Substrings matching the pattern '{pattern}': {matching_substrings}\")\n",
    "else:\n",
    "    print(f\"No substrings found matching the pattern '{pattern}'.\")\n"
   ]
  },
  {
   "cell_type": "markdown",
   "id": "042dbf0c",
   "metadata": {},
   "source": [
    "Q18.Write a Python program to find the occurrence and position of the substrings within a\n",
    "string."
   ]
  },
  {
   "cell_type": "code",
   "execution_count": 16,
   "id": "fd50f427",
   "metadata": {},
   "outputs": [
    {
     "name": "stdout",
     "output_type": "stream",
     "text": [
      "Occurrences of 'fox':\n",
      "  Position: 16\n",
      "Occurrences of 'dog':\n",
      "  Position: 40\n",
      "No occurrences of 'cat' found.\n"
     ]
    }
   ],
   "source": [
    "def find_occurrences(text, substring):\n",
    "    occurrences = []\n",
    "    length = len(text)\n",
    "    index = 0\n",
    "    while index < length:\n",
    "        index = text.find(substring, index)\n",
    "        if index == -1:\n",
    "            break\n",
    "        occurrences.append((substring, index))\n",
    "        index += 1\n",
    "    return occurrences\n",
    "\n",
    "sample_text = 'The quick brown fox jumps over the lazy dog.'\n",
    "\n",
    "substrings = ['fox', 'dog', 'cat']\n",
    "\n",
    "occurrences = {substring: find_occurrences(sample_text, substring) for substring in substrings}\n",
    "\n",
    "for substring, positions in occurrences.items():\n",
    "    if positions:\n",
    "        print(f\"Occurrences of '{substring}':\")\n",
    "        for position in positions:\n",
    "            print(f\"  Position: {position[1]}\")\n",
    "    else:\n",
    "        print(f\"No occurrences of '{substring}' found.\")\n"
   ]
  },
  {
   "cell_type": "markdown",
   "id": "8701b64b",
   "metadata": {},
   "source": [
    "Q19.Write a Python program to convert a date of yyyy-mm-dd format to dd-mm-yyyy\n",
    "format."
   ]
  },
  {
   "cell_type": "code",
   "execution_count": 17,
   "id": "944d6d3b",
   "metadata": {},
   "outputs": [
    {
     "name": "stdout",
     "output_type": "stream",
     "text": [
      "Original date (yyyy-mm-dd): 2024-04-05\n",
      "Formatted date (dd-mm-yyyy): 05-04-2024\n"
     ]
    }
   ],
   "source": [
    "from datetime import datetime\n",
    "\n",
    "def convert_date_format(date_str):\n",
    "   \n",
    "    date_obj = datetime.strptime(date_str, '%Y-%m-%d')\n",
    "   \n",
    "    formatted_date = date_obj.strftime('%d-%m-%Y')\n",
    "    return formatted_date\n",
    "\n",
    "date_str = '2024-04-05'\n",
    "formatted_date = convert_date_format(date_str)\n",
    "print(\"Original date (yyyy-mm-dd):\", date_str)\n",
    "print(\"Formatted date (dd-mm-yyyy):\", formatted_date)\n"
   ]
  },
  {
   "cell_type": "markdown",
   "id": "778958d1",
   "metadata": {},
   "source": [
    "Q20.Create a function in python to find all decimal numbers with a precision of 1 or 2 in a\n",
    "string. The use of the re.compile() method is mandatory.\n",
    "Sample Text: \"01.12013 2.123 2.31875 145.8 3.01 27.25 0.25\"\n",
    "Expected Output: [01.12,145.8,3.01,27.25,0.25]"
   ]
  },
  {
   "cell_type": "code",
   "execution_count": 37,
   "id": "0dbef1ce",
   "metadata": {},
   "outputs": [
    {
     "name": "stdout",
     "output_type": "stream",
     "text": [
      "Decimal numbers with precision of 1 or 2: [145.8, 3.01, 27.25, 0.25]\n"
     ]
    }
   ],
   "source": [
    "import re\n",
    "\n",
    "def find_decimal_numbers(text):\n",
    "    pattern = re.compile(r'\\b\\d+\\.\\d{1,2}\\b')\n",
    "    matches = pattern.findall(text)\n",
    "    decimal_numbers = [float(match) for match in matches]\n",
    "    return decimal_numbers\n",
    "\n",
    "sample_text = \"01.12013 2.123 2.31875 145.8 3.01 27.25 0.25\"\n",
    "result = find_decimal_numbers(sample_text)\n",
    "print(\"Decimal numbers with precision of 1 or 2:\", result)\n"
   ]
  },
  {
   "cell_type": "markdown",
   "id": "42333440",
   "metadata": {},
   "source": [
    "Q21.Write a Python program to separate and print the numbers and their position of a\n",
    "given string."
   ]
  },
  {
   "cell_type": "code",
   "execution_count": 19,
   "id": "fbbebeca",
   "metadata": {},
   "outputs": [
    {
     "name": "stdout",
     "output_type": "stream",
     "text": [
      "String: abc123def456ghi789\n",
      "Numbers and their positions:\n",
      "Number: 1, Position: 4\n",
      "Number: 2, Position: 5\n",
      "Number: 3, Position: 6\n",
      "Number: 4, Position: 10\n",
      "Number: 5, Position: 11\n",
      "Number: 6, Position: 12\n",
      "Number: 7, Position: 16\n",
      "Number: 8, Position: 17\n",
      "Number: 9, Position: 18\n"
     ]
    }
   ],
   "source": [
    "def print_numbers_and_positions(string):\n",
    "    for i, char in enumerate(string):\n",
    "        if char.isdigit():\n",
    "            print(f\"Number: {char}, Position: {i + 1}\")\n",
    "\n",
    "sample_string = \"abc123def456ghi789\"\n",
    "print(\"String:\", sample_string)\n",
    "print(\"Numbers and their positions:\")\n",
    "print_numbers_and_positions(sample_string)\n"
   ]
  },
  {
   "cell_type": "markdown",
   "id": "e0357902",
   "metadata": {},
   "source": [
    "Q22.Write a regular expression in python program to extract maximum/largest numeric\n",
    "value from a string.\n",
    "Sample Text: 'My marks in each semester are: 947, 896, 926, 524, 734, 950, 642'\n",
    "Expected Output: 950"
   ]
  },
  {
   "cell_type": "code",
   "execution_count": 20,
   "id": "b30bcbbe",
   "metadata": {},
   "outputs": [
    {
     "name": "stdout",
     "output_type": "stream",
     "text": [
      "Sample Text: My marks in each semester are: 947, 896, 926, 524, 734, 950, 642\n",
      "Maximum Numeric Value: 950\n"
     ]
    }
   ],
   "source": [
    "import re\n",
    "\n",
    "def extract_maximum_numeric_value(text):\n",
    "    \n",
    "    pattern = r'\\d+'\n",
    "    \n",
    "    numeric_values = re.findall(pattern, text)\n",
    "    \n",
    "    if numeric_values:\n",
    "    \n",
    "        max_value = max(map(int, numeric_values))\n",
    "        return max_value\n",
    "    else:\n",
    "        return None\n",
    "\n",
    "sample_text = 'My marks in each semester are: 947, 896, 926, 524, 734, 950, 642'\n",
    "print(\"Sample Text:\", sample_text)\n",
    "\n",
    "max_numeric_value = extract_maximum_numeric_value(sample_text)\n",
    "if max_numeric_value is not None:\n",
    "    print(\"Maximum Numeric Value:\", max_numeric_value)\n",
    "else:\n",
    "    print(\"No numeric values found in the text.\")\n"
   ]
  },
  {
   "cell_type": "markdown",
   "id": "1584093e",
   "metadata": {},
   "source": [
    "Q23.Create a function in python to insert spaces between words starting with capital\n",
    "letters.\n",
    "Sample Text: “RegularExpressionIsAnImportantTopicInPython\"\n",
    "Expected Output: Regular Expression Is An Important Topic In Python"
   ]
  },
  {
   "cell_type": "code",
   "execution_count": 22,
   "id": "dc6fbc33",
   "metadata": {},
   "outputs": [
    {
     "name": "stdout",
     "output_type": "stream",
     "text": [
      "Sample Text: RegularExpressionIsAnImportantTopicInPython\n",
      "Output: Regular Expression Is An Important Topic In Python\n"
     ]
    }
   ],
   "source": [
    "import re\n",
    "\n",
    "def insert_spaces(text):\n",
    "   \n",
    "    pattern = r'([A-Z][a-z]*)'\n",
    "    \n",
    "    result = re.sub(pattern, r' \\1', text).strip()\n",
    "    return result\n",
    "\n",
    "sample_text = \"RegularExpressionIsAnImportantTopicInPython\"\n",
    "print(\"Sample Text:\", sample_text)\n",
    "\n",
    "output_text = insert_spaces(sample_text)\n",
    "print(\"Output:\", output_text)\n"
   ]
  },
  {
   "cell_type": "markdown",
   "id": "b12aa79b",
   "metadata": {},
   "source": [
    "Q24.Python regex to find sequences of one upper case letter followed by lower case letters"
   ]
  },
  {
   "cell_type": "code",
   "execution_count": 23,
   "id": "c02da4c2",
   "metadata": {},
   "outputs": [
    {
     "name": "stdout",
     "output_type": "stream",
     "text": [
      "Matches: ['This', 'Sample', 'Text', 'With', 'Multiple', 'Sequences', 'One', 'Uppercase', 'Letter', 'Followed', 'Lowercase', 'Letters', 'This', 'Here', 'There']\n"
     ]
    }
   ],
   "source": [
    "import re\n",
    "\n",
    "text = \"This is a Sample Text With Multiple Sequences of One Uppercase Letter Followed by Lowercase Letters like This, Here, and There.\"\n",
    "\n",
    "pattern = r'[A-Z][a-z]+'\n",
    "\n",
    "matches = re.findall(pattern, text)\n",
    "\n",
    "print(\"Matches:\", matches)\n"
   ]
  },
  {
   "cell_type": "markdown",
   "id": "b3f05be0",
   "metadata": {},
   "source": [
    "Q25.Write a Python program to remove continuous duplicate words from Sentence using\n",
    "Regular Expression.\n",
    "Sample Text: \"Hello hello world world\"\n",
    "Expected Output: Hello hello world"
   ]
  },
  {
   "cell_type": "code",
   "execution_count": 24,
   "id": "30ba64e0",
   "metadata": {},
   "outputs": [
    {
     "name": "stdout",
     "output_type": "stream",
     "text": [
      "Original Sentence: Hello hello world world\n",
      "Sentence with Continuous Duplicate Words Removed: Hello world\n"
     ]
    }
   ],
   "source": [
    "import re\n",
    "\n",
    "def remove_continuous_duplicates(sentence):\n",
    "   \n",
    "    cleaned_sentence = re.sub(r'\\b(\\w+)(\\s+\\1)+\\b', r'\\1', sentence, flags=re.IGNORECASE)\n",
    "    return cleaned_sentence\n",
    "\n",
    "sample_text = \"Hello hello world world\"\n",
    "\n",
    "result = remove_continuous_duplicates(sample_text)\n",
    "\n",
    "print(\"Original Sentence:\", sample_text)\n",
    "print(\"Sentence with Continuous Duplicate Words Removed:\", result)\n"
   ]
  },
  {
   "cell_type": "markdown",
   "id": "6a114b6d",
   "metadata": {},
   "source": [
    "Q26.Write a python program using RegEx to accept string ending with alphanumeric\n",
    "character."
   ]
  },
  {
   "cell_type": "code",
   "execution_count": 38,
   "id": "f110bd1d",
   "metadata": {},
   "outputs": [
    {
     "name": "stdout",
     "output_type": "stream",
     "text": [
      "'abc123' Accepted.\n",
      "'xyz_' Not accepted.\n",
      "'123' Accepted.\n",
      "'Hello World!' Not accepted.\n",
      "'alpha2' Accepted.\n"
     ]
    }
   ],
   "source": [
    "import re\n",
    "\n",
    "def ends_with_alphanumeric(string):\n",
    "\n",
    "    pattern = r'.*[a-zA-Z0-9]$'\n",
    "    \n",
    "    if re.match(pattern, string):\n",
    "        return True\n",
    "    else:\n",
    "        return False\n",
    "\n",
    "sample_strings = [\"abc123\", \"xyz_\", \"123\", \"Hello World!\", \"alpha2\"]\n",
    "\n",
    "for string in sample_strings:\n",
    "    if ends_with_alphanumeric(string):\n",
    "        print(f\"'{string}' Accepted.\")\n",
    "    else:\n",
    "        print(f\"'{string}' Not accepted.\")\n"
   ]
  },
  {
   "cell_type": "markdown",
   "id": "955842cb",
   "metadata": {},
   "source": [
    "Q27-Write a python program using RegEx to extract the hashtags.\n",
    "Sample Text: \"\"\"RT @kapil_kausik: #Doltiwal I mean #xyzabc is \"hurt\" by #Demonetization as the same\n",
    "has rendered USELESS <ed><U+00A0><U+00BD><ed><U+00B1><U+0089> \"acquired funds\" No wo\"\"\"\n",
    "Expected Output: ['#Doltiwal', '#xyzabc', '#Demonetization']"
   ]
  },
  {
   "cell_type": "code",
   "execution_count": 26,
   "id": "ce0d8f5e",
   "metadata": {},
   "outputs": [
    {
     "name": "stdout",
     "output_type": "stream",
     "text": [
      "Extracted Hashtags: ['#Doltiwal', '#xyzabc', '#Demonetization']\n"
     ]
    }
   ],
   "source": [
    "import re\n",
    "\n",
    "def extract_hashtags(text):\n",
    " \n",
    "    pattern = r'#\\w+'\n",
    "    \n",
    "    hashtags = re.findall(pattern, text)\n",
    "    \n",
    "    return hashtags\n",
    "\n",
    "sample_text = \"\"\"RT @kapil_kausik: #Doltiwal I mean #xyzabc is \"hurt\" by #Demonetization as the same\n",
    "has rendered USELESS <ed><U+00A0><U+00BD><ed><U+00B1><U+0089> \"acquired funds\" No wo\"\"\"\n",
    "\n",
    "hashtags = extract_hashtags(sample_text)\n",
    "print(\"Extracted Hashtags:\", hashtags)\n"
   ]
  },
  {
   "cell_type": "markdown",
   "id": "60dbf53d",
   "metadata": {},
   "source": [
    "Q28. Write a python program using RegEx to remove <U+..> like symbols\n",
    "Check the below sample text, there are strange symbols something of the sort <U+..> all over the place.\n",
    "You need to come up with a general Regex expression that will cover all such symbols.\n",
    "Sample Text: &quot;@Jags123456 Bharat band on\n",
    "28??<ed><U+00A0><U+00BD><ed><U+00B8><U+0082>Those who are protesting #demonetization are\n",
    "all different party leaders&quot;\n",
    "Expected Output: @Jags123456 Bharat band on 28??<ed><ed>Those who are protesting\n",
    "#demonetization are all different party leaders"
   ]
  },
  {
   "cell_type": "code",
   "execution_count": 27,
   "id": "5d50109e",
   "metadata": {},
   "outputs": [
    {
     "name": "stdout",
     "output_type": "stream",
     "text": [
      "Cleaned Text: @Jags123456 Bharat band on 28??<ed><ed>Those who are protesting #demonetization are all different party leaders\n"
     ]
    }
   ],
   "source": [
    "import re\n",
    "\n",
    "def remove_unicode_symbols(text):\n",
    "\n",
    "    pattern = r'<U\\+[0-9A-Fa-f]+>'\n",
    "    \n",
    "    cleaned_text = re.sub(pattern, '', text)\n",
    "    \n",
    "    return cleaned_text\n",
    "\n",
    "sample_text = \"@Jags123456 Bharat band on 28??<ed><U+00A0><U+00BD><ed><U+00B8><U+0082>Those who are protesting #demonetization are all different party leaders\"\n",
    "\n",
    "cleaned_text = remove_unicode_symbols(sample_text)\n",
    "print(\"Cleaned Text:\", cleaned_text)\n"
   ]
  },
  {
   "cell_type": "markdown",
   "id": "b4c00d94",
   "metadata": {},
   "source": [
    "Q29.Write a python program to extract dates from the text stored in the text file.\n",
    "Sample Text: Ron was born on 12-09-1992 and he was admitted to school 15-12-1999.\n",
    "Note- Store this sample text in the file and then extract dates."
   ]
  },
  {
   "cell_type": "code",
   "execution_count": 28,
   "id": "81c512b5",
   "metadata": {},
   "outputs": [
    {
     "name": "stdout",
     "output_type": "stream",
     "text": [
      "Extracted Dates: ['12-09-1992', '15-12-1999']\n"
     ]
    }
   ],
   "source": [
    "import re\n",
    "\n",
    "def extract_dates_from_file(file_path):\n",
    "\n",
    "    with open(file_path, 'r') as file:\n",
    "        text = file.read()\n",
    "   \n",
    "    date_pattern = r'\\b\\d{2}-\\d{2}-\\d{4}\\b'\n",
    "   \n",
    "    dates = re.findall(date_pattern, text)\n",
    "    \n",
    "    return dates\n",
    "\n",
    "file_path = 'Q29.txt'\n",
    "\n",
    "dates = extract_dates_from_file(file_path)\n",
    "\n",
    "print(\"Extracted Dates:\", dates)\n"
   ]
  },
  {
   "cell_type": "markdown",
   "id": "be8b43b9",
   "metadata": {},
   "source": [
    "Q30.Create a function in python to remove all words from a string of length between 2 and\n",
    "4.\n",
    "The use of the re.compile() method is mandatory.\n",
    "Sample Text: \"The following example creates an ArrayList with a capacity of 50 elements. 4 elements\n",
    "are then added to the ArrayList and the ArrayList is trimmed accordingly.\"\n",
    "Expected Output: following example creates ArrayList a capacity elements. 4 elements added ArrayList\n",
    "ArrayList trimmed accordingly."
   ]
  },
  {
   "cell_type": "code",
   "execution_count": 29,
   "id": "8d8dd4c9",
   "metadata": {},
   "outputs": [
    {
     "name": "stdout",
     "output_type": "stream",
     "text": [
      "Expected Output:  following example creates  ArrayList  a capacity   elements. 4 elements   added   ArrayList   ArrayList  trimmed accordingly.\n"
     ]
    }
   ],
   "source": [
    "import re\n",
    "\n",
    "def remove_words_between_length(text):\n",
    "    word_pattern = re.compile(r'\\b\\w{2,4}\\b')\n",
    "    \n",
    "    result = word_pattern.sub('', text)\n",
    "    \n",
    "    return result\n",
    "sample_text = \"The following example creates an ArrayList with a capacity of 50 elements. 4 elements are then added to the ArrayList and the ArrayList is trimmed accordingly.\"\n",
    "\n",
    "output_text = remove_words_between_length(sample_text)\n",
    "\n",
    "print(\"Expected Output:\", output_text)\n"
   ]
  }
 ],
 "metadata": {
  "kernelspec": {
   "display_name": "Python 3 (ipykernel)",
   "language": "python",
   "name": "python3"
  },
  "language_info": {
   "codemirror_mode": {
    "name": "ipython",
    "version": 3
   },
   "file_extension": ".py",
   "mimetype": "text/x-python",
   "name": "python",
   "nbconvert_exporter": "python",
   "pygments_lexer": "ipython3",
   "version": "3.11.5"
  }
 },
 "nbformat": 4,
 "nbformat_minor": 5
}
